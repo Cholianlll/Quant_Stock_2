{
 "cells": [
  {
   "cell_type": "markdown",
   "metadata": {},
   "source": [
    "# 资产负债率"
   ]
  },
  {
   "cell_type": "markdown",
   "metadata": {},
   "source": [
    "搞定"
   ]
  },
  {
   "cell_type": "markdown",
   "metadata": {},
   "source": [
    "# 营业收入"
   ]
  },
  {
   "cell_type": "markdown",
   "metadata": {},
   "source": [
    "例如，当下是2020年，近三年的复合增速计算公式如下：\n",
    "$$\n",
    "\\frac{Revenue_{2020}}{Revenue_{2018}}^{1/2}-1\n",
    "$$"
   ]
  },
  {
   "cell_type": "markdown",
   "metadata": {},
   "source": [
    "搞定"
   ]
  },
  {
   "cell_type": "markdown",
   "metadata": {},
   "source": [
    "# EBITDA"
   ]
  },
  {
   "cell_type": "markdown",
   "metadata": {},
   "source": [
    "\"近三年EBITDA复合增速同比> 10% 且无负值\""
   ]
  },
  {
   "cell_type": "markdown",
   "metadata": {},
   "source": [
    "改成复合增速>10%"
   ]
  },
  {
   "cell_type": "markdown",
   "metadata": {},
   "source": [
    "搞定"
   ]
  },
  {
   "cell_type": "markdown",
   "metadata": {},
   "source": [
    "# 扣非净利润"
   ]
  },
  {
   "cell_type": "markdown",
   "metadata": {},
   "source": [
    "搞定"
   ]
  },
  {
   "cell_type": "markdown",
   "metadata": {},
   "source": [
    "# ROA"
   ]
  },
  {
   "cell_type": "markdown",
   "metadata": {},
   "source": [
    "未解决：\n",
    "\n",
    "已解决有提升，但是绝对值是什么的问题还没有解决"
   ]
  },
  {
   "cell_type": "markdown",
   "metadata": {},
   "source": [
    "# 总资产周转率+净利率"
   ]
  },
  {
   "cell_type": "markdown",
   "metadata": {},
   "source": [
    "done，只差未知总资产周转率和净利率的wind代码"
   ]
  },
  {
   "cell_type": "markdown",
   "metadata": {},
   "source": [
    "# 毛利率"
   ]
  },
  {
   "cell_type": "markdown",
   "metadata": {},
   "source": [
    "半搞定\n",
    "什么叫综合毛利率？当前暂定为最新期增速"
   ]
  },
  {
   "cell_type": "markdown",
   "metadata": {},
   "source": [
    "# (应收帐款 + 应收票据)年均增速  < 净利润增速"
   ]
  },
  {
   "cell_type": "markdown",
   "metadata": {},
   "source": [
    "搞定"
   ]
  },
  {
   "cell_type": "markdown",
   "metadata": {},
   "source": [
    "# OCF增长率"
   ]
  },
  {
   "cell_type": "markdown",
   "metadata": {},
   "source": [
    "问题：近三年年均增速如何和同期扣非进行对比？？\n",
    "\n",
    "暂定为近三年的OCF增速与最新期的扣非增速相比，不低于扣非的50%"
   ]
  },
  {
   "cell_type": "markdown",
   "metadata": {},
   "source": [
    "半搞定"
   ]
  },
  {
   "cell_type": "markdown",
   "metadata": {},
   "source": [
    "# 每股自由现金流"
   ]
  },
  {
   "cell_type": "markdown",
   "metadata": {},
   "source": [
    "待查wind代码\n",
    "\n",
    "半搞定"
   ]
  },
  {
   "cell_type": "markdown",
   "metadata": {},
   "source": [
    "# 研发支出占比"
   ]
  },
  {
   "cell_type": "markdown",
   "metadata": {},
   "source": [
    "搞定"
   ]
  },
  {
   "cell_type": "markdown",
   "metadata": {},
   "source": [
    "# 费用资本化率"
   ]
  },
  {
   "cell_type": "markdown",
   "metadata": {},
   "source": [
    "什么叫近三年累计开发支出 < 研发支出的50%？\n",
    "\n",
    "暂定只有后一个条件：开发支出占营收<15%\n",
    "\n",
    "半搞定"
   ]
  },
  {
   "cell_type": "markdown",
   "metadata": {},
   "source": [
    "# 审计意见"
   ]
  },
  {
   "cell_type": "markdown",
   "metadata": {},
   "source": [
    "搞定"
   ]
  },
  {
   "cell_type": "markdown",
   "metadata": {},
   "source": [
    "# 应收账款+票据 与 营收"
   ]
  },
  {
   "cell_type": "markdown",
   "metadata": {},
   "source": [
    "搞定"
   ]
  },
  {
   "cell_type": "markdown",
   "metadata": {},
   "source": [
    "# PEG/PB"
   ]
  },
  {
   "cell_type": "markdown",
   "metadata": {},
   "source": [
    "done  "
   ]
  }
 ],
 "metadata": {
  "interpreter": {
   "hash": "49d36bf8f308fcd0d0af20a32289761844991a0cfca113b146939afeff6ce995"
  },
  "kernelspec": {
   "display_name": "Python 3.9.7 64-bit ('crypto': conda)",
   "language": "python",
   "name": "python3"
  },
  "language_info": {
   "codemirror_mode": {
    "name": "ipython",
    "version": 3
   },
   "file_extension": ".py",
   "mimetype": "text/x-python",
   "name": "python",
   "nbconvert_exporter": "python",
   "pygments_lexer": "ipython3",
   "version": "3.9.7"
  },
  "orig_nbformat": 4
 },
 "nbformat": 4,
 "nbformat_minor": 2
}
